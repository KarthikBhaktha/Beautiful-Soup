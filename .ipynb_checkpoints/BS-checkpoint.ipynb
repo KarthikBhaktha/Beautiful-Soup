{
 "cells": [
  {
   "cell_type": "code",
   "execution_count": null,
   "metadata": {},
   "outputs": [],
   "source": [
    "import bs4 as bs\n",
    "import urllib.request as urlb\n",
    "\n",
    "sauce = urlb.urlopen('https://pythonprogramming.net/parsememcparseface/').read()\n",
    "\n",
    "soup = bs.BeautifulSoup(sauce,'lxml')\n",
    "\n",
    "#print(soup.find_all('p'))\n",
    "for para in soup.find_all('p'):\n",
    "    print(para.text)"
   ]
  }
 ],
 "metadata": {
  "kernelspec": {
   "display_name": "Python 3",
   "language": "python",
   "name": "python3"
  },
  "language_info": {
   "codemirror_mode": {
    "name": "ipython",
    "version": 3
   },
   "file_extension": ".py",
   "mimetype": "text/x-python",
   "name": "python",
   "nbconvert_exporter": "python",
   "pygments_lexer": "ipython3",
   "version": "3.6.4"
  }
 },
 "nbformat": 4,
 "nbformat_minor": 2
}
